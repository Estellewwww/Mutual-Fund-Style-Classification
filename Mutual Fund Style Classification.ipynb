{
 "cells": [
  {
   "cell_type": "markdown",
   "id": "e3cd3e4a",
   "metadata": {},
   "source": [
    "### Import Data and Library"
   ]
  },
  {
   "cell_type": "code",
   "execution_count": 1,
   "id": "84d02e9a",
   "metadata": {},
   "outputs": [
    {
     "name": "stderr",
     "output_type": "stream",
     "text": [
      "/Users/estelle/opt/anaconda3/envs/tf/lib/python3.6/site-packages/tensorflow/python/framework/dtypes.py:523: FutureWarning: Passing (type, 1) or '1type' as a synonym of type is deprecated; in a future version of numpy, it will be understood as (type, (1,)) / '(1,)type'.\n",
      "  _np_qint8 = np.dtype([(\"qint8\", np.int8, 1)])\n",
      "/Users/estelle/opt/anaconda3/envs/tf/lib/python3.6/site-packages/tensorflow/python/framework/dtypes.py:524: FutureWarning: Passing (type, 1) or '1type' as a synonym of type is deprecated; in a future version of numpy, it will be understood as (type, (1,)) / '(1,)type'.\n",
      "  _np_quint8 = np.dtype([(\"quint8\", np.uint8, 1)])\n",
      "/Users/estelle/opt/anaconda3/envs/tf/lib/python3.6/site-packages/tensorflow/python/framework/dtypes.py:525: FutureWarning: Passing (type, 1) or '1type' as a synonym of type is deprecated; in a future version of numpy, it will be understood as (type, (1,)) / '(1,)type'.\n",
      "  _np_qint16 = np.dtype([(\"qint16\", np.int16, 1)])\n",
      "/Users/estelle/opt/anaconda3/envs/tf/lib/python3.6/site-packages/tensorflow/python/framework/dtypes.py:526: FutureWarning: Passing (type, 1) or '1type' as a synonym of type is deprecated; in a future version of numpy, it will be understood as (type, (1,)) / '(1,)type'.\n",
      "  _np_quint16 = np.dtype([(\"quint16\", np.uint16, 1)])\n",
      "/Users/estelle/opt/anaconda3/envs/tf/lib/python3.6/site-packages/tensorflow/python/framework/dtypes.py:527: FutureWarning: Passing (type, 1) or '1type' as a synonym of type is deprecated; in a future version of numpy, it will be understood as (type, (1,)) / '(1,)type'.\n",
      "  _np_qint32 = np.dtype([(\"qint32\", np.int32, 1)])\n",
      "/Users/estelle/opt/anaconda3/envs/tf/lib/python3.6/site-packages/tensorflow/python/framework/dtypes.py:532: FutureWarning: Passing (type, 1) or '1type' as a synonym of type is deprecated; in a future version of numpy, it will be understood as (type, (1,)) / '(1,)type'.\n",
      "  np_resource = np.dtype([(\"resource\", np.ubyte, 1)])\n",
      "[nltk_data] Downloading package stopwords to\n",
      "[nltk_data]     /Users/estelle/nltk_data...\n",
      "[nltk_data]   Package stopwords is already up-to-date!\n",
      "[nltk_data] Downloading package punkt to /Users/estelle/nltk_data...\n",
      "[nltk_data]   Package punkt is already up-to-date!\n",
      "[nltk_data] Downloading package wordnet to /Users/estelle/nltk_data...\n",
      "[nltk_data]   Package wordnet is already up-to-date!\n"
     ]
    }
   ],
   "source": [
    "# Import the libraries\n",
    "import os\n",
    "import sys\n",
    "from IPython.display import HTML, display\n",
    "\n",
    "import numpy as np\n",
    "import pandas as pd\n",
    "import tensorflow as tf\n",
    "from math import ceil\n",
    "from scipy.spatial.distance import cosine\n",
    "\n",
    "import matplotlib.pyplot as plt\n",
    "import seaborn as sns\n",
    "\n",
    "import collections\n",
    "import random\n",
    "import time\n",
    "import string\n",
    "import re\n",
    "\n",
    "import nltk\n",
    "nltk.download('stopwords')\n",
    "nltk.download('punkt')\n",
    "nltk.download('wordnet')\n",
    "from nltk.corpus import stopwords\n",
    "from nltk.stem import WordNetLemmatizer\n",
    "from nltk.tokenize import word_tokenize\n",
    "from nltk.tokenize import sent_tokenize\n",
    "\n",
    "from sklearn.model_selection import train_test_split\n",
    "from sklearn.feature_extraction.text import TfidfVectorizer\n",
    "from sklearn.naive_bayes import MultinomialNB\n",
    "from sklearn.model_selection import GridSearchCV\n",
    "from sklearn.svm import SVC\n",
    "from sklearn.metrics import roc_curve, auc\n",
    "from sklearn.metrics import confusion_matrix\n",
    "from sklearn.metrics import classification_report\n",
    "\n",
    "from tensorflow.keras.preprocessing.sequence import pad_sequences\n",
    "from tensorflow.keras.preprocessing.text import Tokenizer\n",
    "from tensorflow.keras.models import Sequential, Model\n",
    "from tensorflow.keras.layers import Input, Embedding, Dense, Convolution1D, MaxPooling1D, GlobalMaxPooling1D, Flatten, Dropout, LSTM, Bidirectional"
   ]
  },
  {
   "cell_type": "code",
   "execution_count": 2,
   "id": "c0d06383",
   "metadata": {},
   "outputs": [],
   "source": [
    "summary_path = \"/Users/estelle/Desktop/NLP_app/MutualFundSummary\"\n",
    "summary_lables_path = \"/Users/estelle/Desktop/NLP_app/MutualFundLabels.csv\"\n",
    "glove_word2vec = '/Users/estelle/Desktop/NLP_app/glove.6B.50d.txt'\n",
    "our_word2vec = '/Users/estelle/Desktop/NLP_app/word2vec_perso.txt'"
   ]
  },
  {
   "cell_type": "code",
   "execution_count": 3,
   "id": "fbc80e58",
   "metadata": {},
   "outputs": [],
   "source": [
    "#Util\n",
    "# Progress bar\n",
    "def progress(value, max=100):\n",
    "    return HTML(\"\"\"\n",
    "        <progress\n",
    "            value='{value}'\n",
    "            max='{max}',\n",
    "            style='width: 100%'\n",
    "        >\n",
    "            {value}\n",
    "        </progress>\n",
    "    \"\"\".format(value=value, max=max))\n",
    "\n",
    "# Save a word2vec dictionary.\n",
    "def save_word2vec(filename):\n",
    "    with open(os.path.join('/Users/haoxing/Documents/Work/Teaching/Machine learning for Finance/Codes/NLP/NLP_app', filename),'a' , encoding='utf-8') as f :\n",
    "        for k, v in word2vec.items():\n",
    "            line = k+' '+str(list(v)).strip('[]').replace(',','')+'\\n'\n",
    "            f.write(line)\n",
    "\n",
    "# Load a word2vec dictionary.\n",
    "def load_word2vec(filename):\n",
    "    word2vec = {}\n",
    "    with open(os.path.join('/Users/haoxing/Documents/Work/Teaching/Machine learning for Finance/Codes/NLP/NLP_app', filename), encoding='utf8') as f:\n",
    "        for line in f:\n",
    "            try :\n",
    "                values = line.split()\n",
    "                word = values[0]\n",
    "                vec = np.asarray(values[1:], dtype='float32')\n",
    "                word2vec[word] = vec\n",
    "            except :\n",
    "                None\n",
    "    return word2vec\n",
    "\n",
    "# read the repo in PATH and append the texts in a list\n",
    "def get_data(PATH):\n",
    "    list_dir = os.listdir(PATH)\n",
    "    texts = []\n",
    "    fund_names = []\n",
    "    out = display(progress(0, len(list_dir)-1), display_id=True)\n",
    "    for ii, filename in enumerate(list_dir) :\n",
    "        with open(PATH+'/'+filename, 'r', encoding=\"utf8\") as f :\n",
    "            txt = f.read()\n",
    "            try :\n",
    "                txt_split = txt.split('<head_breaker>')\n",
    "                summary = txt_split[1].strip()\n",
    "                fund_name = txt_split[0].strip()\n",
    "            except :\n",
    "                summary = txt\n",
    "                fund_name = ''\n",
    "        texts.append(summary)\n",
    "        fund_names.append(fund_name)\n",
    "        out.update(progress(ii, len(list_dir)-1))\n",
    "    return fund_names, texts"
   ]
  },
  {
   "cell_type": "code",
   "execution_count": 4,
   "id": "35a68b7b",
   "metadata": {},
   "outputs": [
    {
     "data": {
      "text/html": [
       "\n",
       "        <progress\n",
       "            value='544'\n",
       "            max='544',\n",
       "            style='width: 100%'\n",
       "        >\n",
       "            544\n",
       "        </progress>\n",
       "    "
      ],
      "text/plain": [
       "<IPython.core.display.HTML object>"
      ]
     },
     "metadata": {},
     "output_type": "display_data"
    }
   ],
   "source": [
    "#Get the summaries\n",
    "fund_names, summaries = get_data(summary_path)"
   ]
  },
  {
   "cell_type": "code",
   "execution_count": 5,
   "id": "e7e96fa9",
   "metadata": {},
   "outputs": [],
   "source": [
    "stop_words = set(stopwords.words(\"english\")+list(string.punctuation)+['``',\"''\"]+[\"]\",\"[\",\"*\"]+['doe', 'ha', 'wa'])"
   ]
  },
  {
   "cell_type": "code",
   "execution_count": 6,
   "id": "66e711b6",
   "metadata": {},
   "outputs": [],
   "source": [
    "# clean and tokenize the text -> we don't want to lemmatize\n",
    "def tokenizer(txt):\n",
    "    txt = txt.replace('\\n', ' ').replace('\\t', ' ').lower()\n",
    "    word_tokens = word_tokenize(txt)\n",
    "    filtered_sentence = [w for w in word_tokens if not w in stop_words]\n",
    "    filtered_sentence = [w for w in filtered_sentence if re.sub(\"[^A-Za-z ]+\",'',w) != ''] \n",
    "    return filtered_sentence"
   ]
  },
  {
   "cell_type": "code",
   "execution_count": 7,
   "id": "4b0e65f8",
   "metadata": {},
   "outputs": [
    {
     "name": "stdout",
     "output_type": "stream",
     "text": [
      "['investment' 'objective' 'thrivent' 'partner' 'healthcare' 'portfolio'\n",
      " 'portfolio' 'seeks' 'long-term' 'capital' 'growth' 'fees' 'expenses'\n",
      " 'table' 'describes' 'fees' 'expenses' 'may' 'pay' 'buy']\n"
     ]
    }
   ],
   "source": [
    "text_words = np.concatenate([tokenizer(summary) for summary in summaries])\n",
    "print(text_words[:20])"
   ]
  },
  {
   "cell_type": "markdown",
   "id": "dbdfe668",
   "metadata": {},
   "source": [
    "### Process skip-gram model input"
   ]
  },
  {
   "cell_type": "code",
   "execution_count": 8,
   "id": "1ce2c9e8",
   "metadata": {},
   "outputs": [],
   "source": [
    "# Training Parameters\n",
    "batch_size = 128 # The model will be trained batch per batch and one batch contains 128 rows\n",
    "num_epochs = 2 # The model will go through all the data twice"
   ]
  },
  {
   "cell_type": "code",
   "execution_count": 9,
   "id": "b0551154",
   "metadata": {},
   "outputs": [],
   "source": [
    "# Word2Vec Parameters\n",
    "embedding_size = 50 # Dimension of the embedding vector\n",
    "max_vocabulary_size = 5000 # Total number of different words in the vocabulary\n",
    "min_occurrence = 10 # Remove all words that does not appears at least n times\n",
    "skip_window = 3 # How many words to consider left and right\n",
    "num_skips = 4 # How many times to reuse an input to generate a label"
   ]
  },
  {
   "cell_type": "code",
   "execution_count": 10,
   "id": "b4740a7a",
   "metadata": {},
   "outputs": [],
   "source": [
    "import collections\n",
    "# Build the dictionary and replace rare words with UNK token\n",
    "count = [('UNK', -1)]\n",
    "# Retrieve the most common words\n",
    "count.extend(collections.Counter(text_words).most_common(max_vocabulary_size - 1))\n",
    "# Remove samples with less than 'min_occurrence' occurrences\n",
    "for i in range(len(count) - 1, -1, -1):\n",
    "    if count[i][1] < min_occurrence:\n",
    "        count.pop(i)\n",
    "    else:\n",
    "        # The collection is ordered, so stop when 'min_occurrence' is reached\n",
    "        break"
   ]
  },
  {
   "cell_type": "code",
   "execution_count": 12,
   "id": "846db4ea",
   "metadata": {},
   "outputs": [],
   "source": [
    "word2id = dict()\n",
    "for i, (word, _)in enumerate(count):\n",
    "    word2id[word] = i\n",
    "id2word = dict(zip(word2id.values(), word2id.keys()))\n",
    "vocab_size = len(id2word)"
   ]
  },
  {
   "cell_type": "code",
   "execution_count": 13,
   "id": "9d893261",
   "metadata": {},
   "outputs": [],
   "source": [
    "# create data\n",
    "data = list()\n",
    "unk_count = 0\n",
    "for word in text_words:\n",
    "    # Retrieve a word id, or assign it index 0 ('UNK') if not in dictionary\n",
    "    index = word2id.get(word, 0)\n",
    "    if index == 0:\n",
    "        unk_count += 1\n",
    "    data.append(index)\n",
    "count[0] = ('UNK', unk_count)"
   ]
  },
  {
   "cell_type": "code",
   "execution_count": 14,
   "id": "99c95dc9",
   "metadata": {},
   "outputs": [
    {
     "name": "stdout",
     "output_type": "stream",
     "text": [
      "[3, 123, 3353, 498, 1843, 7, 7, 231, 281, 73, 91, 12, 9, 49, 338, 12, 9, 2, 66, 184]\n"
     ]
    }
   ],
   "source": [
    "print(data[:20])"
   ]
  },
  {
   "cell_type": "code",
   "execution_count": 15,
   "id": "96a371b4",
   "metadata": {},
   "outputs": [],
   "source": [
    "# build OneHot vector from index\n",
    "def to_one_hot(data_point_index, vocab_size):\n",
    "    temp = np.zeros(vocab_size)\n",
    "    temp[data_point_index] = 1\n",
    "    return temp"
   ]
  },
  {
   "cell_type": "code",
   "execution_count": 16,
   "id": "25824dab",
   "metadata": {},
   "outputs": [],
   "source": [
    "# Generate training batch for the skip-gram model\n",
    "def batch_generator(batch_size, num_skips, skip_window, vocab_size):\n",
    "    data_index = 0\n",
    "    while True :\n",
    "        assert batch_size % num_skips == 0\n",
    "        assert num_skips <= 2 * skip_window\n",
    "        # batch is filled with 128 inputs\n",
    "        batch = np.ndarray(shape=(batch_size), dtype=np.int32)\n",
    "        # labels is filled with 128 outputs \n",
    "        labels = np.ndarray(shape=(batch_size), dtype=np.int32)\n",
    "        span = 2 * skip_window + 1\n",
    "        # buffer keep track of the visited indexes visited\n",
    "        buffer = collections.deque(maxlen=span)\n",
    "        if data_index + span > len(data):\n",
    "            data_index = 0\n",
    "            # We stop the loop when we went through all the corpus\n",
    "            break\n",
    "        buffer.extend(data[data_index:data_index + span])\n",
    "        data_index += span\n",
    "        for i in range(batch_size // num_skips):  \n",
    "            # Take the context current word\n",
    "            context_words = [w for w in range(span) if w != skip_window]\n",
    "            # Randomly select num_skips words in the context\n",
    "            words_to_use = random.sample(context_words, num_skips)\n",
    "            for j, context_word in enumerate(words_to_use):\n",
    "                # Creates one raw data\n",
    "                batch[i * num_skips + j] = buffer[skip_window]\n",
    "                labels[i * num_skips + j] = buffer[context_word]\n",
    "            if data_index == len(data):\n",
    "                buffer.extend(data[0:span])\n",
    "                data_index = span\n",
    "            else:\n",
    "                buffer.append(data[data_index])\n",
    "                data_index += 1\n",
    "        # Backtrack a little bit to avoid skipping words in the end of a batch\n",
    "        data_index = (data_index + len(data) - span) % len(data)\n",
    "\n",
    "        # translate word index to on-hot representation\n",
    "        batch_one_hot = np.array([to_one_hot(b, vocab_size) for b in batch])\n",
    "        labels_one_hot = np.array([to_one_hot(l, vocab_size) for l in labels])\n",
    "\n",
    "        # output one batch\n",
    "        yield batch_one_hot, labels_one_hot"
   ]
  },
  {
   "cell_type": "markdown",
   "id": "2eabea89",
   "metadata": {},
   "source": [
    "### Train the skip-gram model"
   ]
  },
  {
   "cell_type": "code",
   "execution_count": 17,
   "id": "5ed87fe8",
   "metadata": {},
   "outputs": [],
   "source": [
    "# Create en compile the Autoencoder\n",
    "def creat_word2vec_model():\n",
    "    input_word = Input(shape=(vocab_size,))\n",
    "\n",
    "    encoded = Dense(embedding_size, activation='linear')(input_word)\n",
    "    decoded = Dense(vocab_size, activation='softmax')(encoded)\n",
    "\n",
    "    # The autoencoder is the whole model with hidden layer contected to the output layer.\n",
    "    autoencoder = Model(input_word, decoded)\n",
    "    # The encoder is just the input layer connected to the hidden layer. One the Autoencoder will be trained we will use\n",
    "    # the encoder to create our word vectors \n",
    "    encoder = Model(input_word, encoded)\n",
    "    \n",
    "    autoencoder.compile(optimizer='adam', loss='binary_crossentropy')\n",
    "    return encoder, autoencoder"
   ]
  },
  {
   "cell_type": "code",
   "execution_count": 18,
   "id": "458b6d5d",
   "metadata": {},
   "outputs": [],
   "source": [
    "# We create the model\n",
    "encoder, autoencoder = creat_word2vec_model()"
   ]
  },
  {
   "cell_type": "code",
   "execution_count": 19,
   "id": "7df481e7",
   "metadata": {},
   "outputs": [
    {
     "name": "stdout",
     "output_type": "stream",
     "text": [
      "_________________________________________________________________\n",
      "Layer (type)                 Output Shape              Param #   \n",
      "=================================================================\n",
      "input_1 (InputLayer)         (None, 3454)              0         \n",
      "_________________________________________________________________\n",
      "dense (Dense)                (None, 50)                172750    \n",
      "_________________________________________________________________\n",
      "dense_1 (Dense)              (None, 3454)              176154    \n",
      "=================================================================\n",
      "Total params: 348,904\n",
      "Trainable params: 348,904\n",
      "Non-trainable params: 0\n",
      "_________________________________________________________________\n"
     ]
    }
   ],
   "source": [
    "autoencoder.summary()"
   ]
  },
  {
   "cell_type": "code",
   "execution_count": 20,
   "id": "02411498",
   "metadata": {},
   "outputs": [
    {
     "name": "stdout",
     "output_type": "stream",
     "text": [
      "Epoch 1/2\n",
      "7481/7481 [==============================] - 274s 37ms/step - loss: 0.0022\n",
      "Epoch 2/2\n",
      "7481/7481 [==============================] - 273s 36ms/step - loss: 0.0020\n"
     ]
    },
    {
     "data": {
      "text/plain": [
       "<tensorflow.python.keras.callbacks.History at 0x7f9ee9389ef0>"
      ]
     },
     "execution_count": 20,
     "metadata": {},
     "output_type": "execute_result"
    }
   ],
   "source": [
    "# Finally we can train the model by feeding it with our batch generator !\n",
    "autoencoder.fit_generator(batch_generator(batch_size, num_skips, skip_window, vocab_size), steps_per_epoch=ceil(len(data) / batch_size), epochs=num_epochs)"
   ]
  },
  {
   "cell_type": "code",
   "execution_count": 21,
   "id": "87052a41",
   "metadata": {},
   "outputs": [],
   "source": [
    "# Create the Vectorizer function (prediciton of the encoder)\n",
    "def vecotrize(word):\n",
    "    word_one_hot = to_one_hot(word2id[word], vocab_size)\n",
    "    return encoder.predict(np.array([word_one_hot]))[0]"
   ]
  },
  {
   "cell_type": "code",
   "execution_count": 22,
   "id": "bd1bc85c",
   "metadata": {},
   "outputs": [],
   "source": [
    "# Create the word2vec dictionary\n",
    "word2vec = {w : vecotrize(w) for w in word2id.keys()}\n",
    "\n",
    "# This dictionary gives for all words it's vectorial representation."
   ]
  },
  {
   "cell_type": "code",
   "execution_count": 23,
   "id": "fa32a615",
   "metadata": {},
   "outputs": [],
   "source": [
    "save_word2vec(our_word2vec)"
   ]
  },
  {
   "cell_type": "markdown",
   "id": "9e146dde",
   "metadata": {},
   "source": [
    "### Data Visualization"
   ]
  },
  {
   "cell_type": "markdown",
   "id": "e060296c",
   "metadata": {},
   "source": [
    "#### find the closer words"
   ]
  },
  {
   "cell_type": "code",
   "execution_count": 24,
   "id": "6d63de34",
   "metadata": {},
   "outputs": [],
   "source": [
    "# for a given word, output the n closer words in the word2vec maping.\n",
    "def get_n_closer(w, n, word2vec):\n",
    "    vect = word2vec[w]\n",
    "    distances_dict = {k: cosine(v, vect) for k, v in word2vec.items()}\n",
    "    \n",
    "    closer_words = []\n",
    "    for _ in range(n):\n",
    "        min_key = min(distances_dict.keys(), key=lambda k: distances_dict[k])\n",
    "        closer_words.append(min_key)\n",
    "        del distances_dict[min_key]\n",
    "    return closer_words"
   ]
  },
  {
   "cell_type": "code",
   "execution_count": 25,
   "id": "e6b1879a",
   "metadata": {},
   "outputs": [
    {
     "name": "stdout",
     "output_type": "stream",
     "text": [
      "words close to balanced : preservation, conservation, consistent, standard, declared, appreciation, emphasis, considering, preserve, borrowing\n",
      "words close to fixed income : bonds, debt, rated, instruments, junk, prices, fixed-income, mortgage-backed, asset-backed, longer\n",
      "words close to equity : stocks, common, established, preferred, primarily, smaller, typically, larger, small-, convertible\n",
      "words close to long short funds : leverage, obligation, possibility, geographic, prepayment, potentially, liquidity, highly, derivative, counterparty\n"
     ]
    }
   ],
   "source": [
    "words_neighbors_1 = get_n_closer('preservation', 10, word2vec)\n",
    "print('words close to balanced : ' +str(', '.join(words_neighbors_1)))\n",
    "words_neighbors_2 = get_n_closer('bonds', 10, word2vec)\n",
    "print('words close to fixed income : ' +str(', '.join(words_neighbors_2)))\n",
    "words_neighbors_3 = get_n_closer('stocks', 10, word2vec)\n",
    "print('words close to equity : ' +str(', '.join(words_neighbors_3)))\n",
    "words_neighbors_4 = get_n_closer('leverage', 10, word2vec)\n",
    "print('words close to long short funds : ' +str(', '.join(words_neighbors_4)))"
   ]
  },
  {
   "cell_type": "markdown",
   "id": "4a8e8cf4",
   "metadata": {},
   "source": [
    "#### plot"
   ]
  },
  {
   "cell_type": "code",
   "execution_count": 105,
   "id": "5e45e498",
   "metadata": {},
   "outputs": [
    {
     "name": "stdout",
     "output_type": "stream",
     "text": [
      "(3454, 50)\n",
      "(3454, 2)\n"
     ]
    }
   ],
   "source": [
    "# fit the TSNE dimenstion reduction model\n",
    "from sklearn.manifold import TSNE\n",
    "from sklearn.decomposition import PCA\n",
    "vectors = np.array([v for k, v in word2vec.items()])\n",
    "words = np.array([k for k, v in word2vec.items()])\n",
    "print(vectors.shape)\n",
    "\n",
    "tsne_model = TSNE(perplexity=40, n_components=2, init='pca', n_iter=2500, random_state=23)\n",
    "vectors = tsne_model.fit_transform(vectors)\n",
    "\n",
    "print(vectors.shape)"
   ]
  },
  {
   "cell_type": "code",
   "execution_count": 106,
   "id": "b9386b14",
   "metadata": {},
   "outputs": [],
   "source": [
    "reduced_word2vec = {words[i] : list(vectors[i]) for i in range (len(vectors))}"
   ]
  },
  {
   "cell_type": "code",
   "execution_count": 108,
   "id": "801d9dcd",
   "metadata": {},
   "outputs": [],
   "source": [
    "def create_neighbors_visualisation_data(words, num_neighbors, word2vec):\n",
    "    words_neighbors = []\n",
    "    for word in words :\n",
    "        try :\n",
    "            words_neighbors.append(get_n_closer(word, num_neighbors, word2vec))\n",
    "        except :\n",
    "            print(word +' not in word2vec')\n",
    "\n",
    "    words_neighbors = np.concatenate(words_neighbors)\n",
    "    vectors_neighbors = np.array([reduced_word2vec[word] for word in words_neighbors])\n",
    "    \n",
    "    return vectors_neighbors[:,0], vectors_neighbors[:,0], words_neighbors\n",
    "x, y, labels = create_neighbors_visualisation_data(['preservation', 'bonds', 'stock','leverage'], 10, word2vec)"
   ]
  },
  {
   "cell_type": "code",
   "execution_count": 111,
   "id": "5b6b3b67",
   "metadata": {},
   "outputs": [
    {
     "data": {
      "image/png": "[encoded data removed]",
      "text/plain": [
       "<Figure size 720x720 with 1 Axes>"
      ]
     },
     "metadata": {
      "needs_background": "light"
     },
     "output_type": "display_data"
    }
   ],
   "source": [
    "plt.figure(figsize=(10, 10)) \n",
    "for i in range(len(x)):\n",
    "    plt.scatter(x[i],y[i])\n",
    "    plt.annotate(labels[i],\n",
    "        xy=(x[i], y[i]),\n",
    "        xytext=(5, 2),\n",
    "        textcoords='offset points',\n",
    "        ha='right',\n",
    "        va='bottom')\n",
    "plt.title('keyword')\n",
    "plt.show()"
   ]
  },
  {
   "cell_type": "markdown",
   "id": "aa9a0d49",
   "metadata": {},
   "source": [
    "### Create a Knowledge Base"
   ]
  },
  {
   "cell_type": "code",
   "execution_count": 26,
   "id": "626da68c",
   "metadata": {},
   "outputs": [],
   "source": [
    "# Creates the knwoledge base by taking the num_neighbors closes neighbors of each key_words in word2vec\n",
    "def create_knowledge_base(num_neighbors, word2vec, key_words):\n",
    "    knowledge_base = set()\n",
    "    out = display(progress(0, len(key_words)-1), display_id=True)\n",
    "    for ii, key_word in enumerate(key_words) :\n",
    "        knowledge_base.add(key_word)\n",
    "        neighbors = []\n",
    "        try :\n",
    "            neighbors = get_n_closer(key_word, num_neighbors, word2vec)\n",
    "        except :\n",
    "            print(key_word + ' not in word2vec')\n",
    "\n",
    "        knowledge_base.update(neighbors)\n",
    "        \n",
    "        out.update(progress(ii, len(key_words)-1))\n",
    "    return knowledge_base"
   ]
  },
  {
   "cell_type": "code",
   "execution_count": 27,
   "id": "3e0fa820",
   "metadata": {},
   "outputs": [
    {
     "data": {
      "text/html": [
       "\n",
       "        <progress\n",
       "            value='9'\n",
       "            max='9',\n",
       "            style='width: 100%'\n",
       "        >\n",
       "            9\n",
       "        </progress>\n",
       "    "
      ],
      "text/plain": [
       "<IPython.core.display.HTML object>"
      ]
     },
     "metadata": {},
     "output_type": "display_data"
    },
    {
     "data": {
      "text/html": [
       "\n",
       "        <progress\n",
       "            value='9'\n",
       "            max='9',\n",
       "            style='width: 100%'\n",
       "        >\n",
       "            9\n",
       "        </progress>\n",
       "    "
      ],
      "text/plain": [
       "<IPython.core.display.HTML object>"
      ]
     },
     "metadata": {},
     "output_type": "display_data"
    },
    {
     "data": {
      "text/html": [
       "\n",
       "        <progress\n",
       "            value='9'\n",
       "            max='9',\n",
       "            style='width: 100%'\n",
       "        >\n",
       "            9\n",
       "        </progress>\n",
       "    "
      ],
      "text/plain": [
       "<IPython.core.display.HTML object>"
      ]
     },
     "metadata": {},
     "output_type": "display_data"
    },
    {
     "data": {
      "text/html": [
       "\n",
       "        <progress\n",
       "            value='9'\n",
       "            max='9',\n",
       "            style='width: 100%'\n",
       "        >\n",
       "            9\n",
       "        </progress>\n",
       "    "
      ],
      "text/plain": [
       "<IPython.core.display.HTML object>"
      ]
     },
     "metadata": {},
     "output_type": "display_data"
    }
   ],
   "source": [
    "keywords_list = [words_neighbors_1,words_neighbors_2,words_neighbors_3,words_neighbors_4]\n",
    "knowledge_base = []\n",
    "for keywords in keywords_list:\n",
    "    knowledge_base.extend(create_knowledge_base(5, word2vec, keywords))"
   ]
  },
  {
   "cell_type": "code",
   "execution_count": 28,
   "id": "4027eb74",
   "metadata": {},
   "outputs": [
    {
     "name": "stdout",
     "output_type": "stream",
     "text": [
      "['providing', 'standard', 'emphasis', 'division', 'multi-cap', 'declared', 'freedom', 'cycle', 'membership', 'georgia', 'current', 'evaluated', 'municipality', 'morningstar', 'conservation', 'reimbursing', 'usaa', 'targeted', 'mandated', 'comprise', 'appreciation', 'borrowing', 'maximize', 'unmanaged', 'risk-managed', 'considering', 'classification', 'master', 'exemptions', 'index℠', 'repatriate', 'unlikely', 'preservation', 'ensure', 'spending', 'consistent', 'core', 'exempt-interest', 'bear', 'preserve', 'rated', 'mortgage-related', 'longer', 'bonds', 'maturity', 'values', 'instruments', 'fixed-income', 'asset-backed', 'exposure', 'tend', 'junk', 'durations', 'convertible', 'maturities', 'debt', 'sensitive', 'non-u.s.', 'fall', 'preferred', 'prices', 'estate', 'mortgage-backed', 'mid-capitalization', 'whose', 'equity', 'etfs', 'preferred', 'smaller', 'small-', 'stocks', 'exposure', 'many', 'mid-cap', 'primarily', 'convertible', 'common', 'often', 'typically', 'non-u.s.', 'larger', 'established', 'junk', 'swaps', 'capacity', 'speculative', 'present', 'substantial', 'potentially', 'decreased', 'low', 'counterparty', 'strength', 'volatility', 'geographic', 'extension', 'guarantor', 'leveraging', 'heightened', 'default', 'liquidity', 'derivative', 'prepayment', 'possibility', 'leverage', 'loss', 'obligation', 'highly']\n"
     ]
    }
   ],
   "source": [
    "print(knowledge_base)"
   ]
  },
  {
   "cell_type": "markdown",
   "id": "bfb27e22",
   "metadata": {},
   "source": [
    "### Scoring Function"
   ]
  },
  {
   "cell_type": "code",
   "execution_count": 29,
   "id": "80c00fb5",
   "metadata": {},
   "outputs": [
    {
     "data": {
      "text/html": [
       "<div>\n",
       "<style scoped>\n",
       "    .dataframe tbody tr th:only-of-type {\n",
       "        vertical-align: middle;\n",
       "    }\n",
       "\n",
       "    .dataframe tbody tr th {\n",
       "        vertical-align: top;\n",
       "    }\n",
       "\n",
       "    .dataframe thead th {\n",
       "        text-align: right;\n",
       "    }\n",
       "</style>\n",
       "<table border=\"1\" class=\"dataframe\">\n",
       "  <thead>\n",
       "    <tr style=\"text-align: right;\">\n",
       "      <th></th>\n",
       "      <th>id</th>\n",
       "      <th>fund_name</th>\n",
       "      <th>Performance fee?</th>\n",
       "      <th>Ivestment Strategy</th>\n",
       "      <th>Leverage?</th>\n",
       "      <th>Portfolio composition</th>\n",
       "      <th>Concentration</th>\n",
       "      <th>summary</th>\n",
       "    </tr>\n",
       "  </thead>\n",
       "  <tbody>\n",
       "    <tr>\n",
       "      <th>0</th>\n",
       "      <td>0000051931-18-000151</td>\n",
       "      <td>American Funds College 2018 Fund</td>\n",
       "      <td>None</td>\n",
       "      <td>Balanced Fund (Low Risk)</td>\n",
       "      <td>Yes</td>\n",
       "      <td>Investment grade securities</td>\n",
       "      <td>Diversified</td>\n",
       "      <td>American Funds College 2018 Fund\\n\\nInvestment...</td>\n",
       "    </tr>\n",
       "    <tr>\n",
       "      <th>1</th>\n",
       "      <td>0000051931-18-000151</td>\n",
       "      <td>American Funds College 2021 Fund</td>\n",
       "      <td>None</td>\n",
       "      <td>Balanced Fund (Low Risk)</td>\n",
       "      <td>Yes</td>\n",
       "      <td>Investment grade securities</td>\n",
       "      <td>Diversified</td>\n",
       "      <td>American Funds College 2021 Fund\\n\\nInvestment...</td>\n",
       "    </tr>\n",
       "    <tr>\n",
       "      <th>2</th>\n",
       "      <td>0000051931-18-000151</td>\n",
       "      <td>American Funds College 2024 Fund</td>\n",
       "      <td>None</td>\n",
       "      <td>Balanced Fund (Low Risk)</td>\n",
       "      <td>Yes</td>\n",
       "      <td>Investment grade securities</td>\n",
       "      <td>Diversified</td>\n",
       "      <td>American Funds College 2024 Fund\\n\\nInvestment...</td>\n",
       "    </tr>\n",
       "    <tr>\n",
       "      <th>3</th>\n",
       "      <td>0000051931-18-000151</td>\n",
       "      <td>American Funds College 2027 Fund</td>\n",
       "      <td>None</td>\n",
       "      <td>Balanced Fund (Low Risk)</td>\n",
       "      <td>Yes</td>\n",
       "      <td>Investment grade securities</td>\n",
       "      <td>Diversified</td>\n",
       "      <td>American Funds College 2027 Fund\\n\\nInvestment...</td>\n",
       "    </tr>\n",
       "    <tr>\n",
       "      <th>4</th>\n",
       "      <td>0000051931-18-000151</td>\n",
       "      <td>American Funds College 2030 Fund</td>\n",
       "      <td>None</td>\n",
       "      <td>Balanced Fund (Low Risk)</td>\n",
       "      <td>Yes</td>\n",
       "      <td>Investment grade securities</td>\n",
       "      <td>Diversified</td>\n",
       "      <td>American Funds College 2030 Fund\\n\\nInvestment...</td>\n",
       "    </tr>\n",
       "  </tbody>\n",
       "</table>\n",
       "</div>"
      ],
      "text/plain": [
       "                     id                         fund_name Performance fee?  \\\n",
       "0  0000051931-18-000151  American Funds College 2018 Fund             None   \n",
       "1  0000051931-18-000151  American Funds College 2021 Fund             None   \n",
       "2  0000051931-18-000151  American Funds College 2024 Fund             None   \n",
       "3  0000051931-18-000151  American Funds College 2027 Fund             None   \n",
       "4  0000051931-18-000151  American Funds College 2030 Fund             None   \n",
       "\n",
       "         Ivestment Strategy Leverage?        Portfolio composition  \\\n",
       "0  Balanced Fund (Low Risk)       Yes  Investment grade securities   \n",
       "1  Balanced Fund (Low Risk)       Yes  Investment grade securities   \n",
       "2  Balanced Fund (Low Risk)       Yes  Investment grade securities   \n",
       "3  Balanced Fund (Low Risk)       Yes  Investment grade securities   \n",
       "4  Balanced Fund (Low Risk)       Yes  Investment grade securities   \n",
       "\n",
       "   Concentration                                            summary  \n",
       "0    Diversified  American Funds College 2018 Fund\\n\\nInvestment...  \n",
       "1    Diversified  American Funds College 2021 Fund\\n\\nInvestment...  \n",
       "2    Diversified  American Funds College 2024 Fund\\n\\nInvestment...  \n",
       "3    Diversified  American Funds College 2027 Fund\\n\\nInvestment...  \n",
       "4    Diversified  American Funds College 2030 Fund\\n\\nInvestment...  "
      ]
     },
     "execution_count": 29,
     "metadata": {},
     "output_type": "execute_result"
    }
   ],
   "source": [
    "# We create here the dataframe tha contains the summaries along with their labels\n",
    "df_extraction = pd.DataFrame({'fund_name' : fund_names, 'summary':summaries})\n",
    "df_label = pd.read_csv(summary_lables_path)\n",
    "df = df_label.merge(df_extraction, on='fund_name', how='left').dropna()\n",
    "df.head()"
   ]
  },
  {
   "cell_type": "code",
   "execution_count": 30,
   "id": "acc0b5b1",
   "metadata": {},
   "outputs": [
    {
     "data": {
      "text/plain": [
       "Equity Long Only (Low Risk)          247\n",
       "Fixed Income Long Only (Low Risk)    130\n",
       "Balanced Fund (Low Risk)              84\n",
       "Long Short Funds (High Risk)           4\n",
       "Commodities Fund (Low Risk)            1\n",
       "Name: Ivestment Strategy, dtype: int64"
      ]
     },
     "execution_count": 30,
     "metadata": {},
     "output_type": "execute_result"
    }
   ],
   "source": [
    "#check the prediction style\n",
    "df['Ivestment Strategy'].value_counts()"
   ]
  },
  {
   "cell_type": "code",
   "execution_count": 31,
   "id": "c236554f",
   "metadata": {},
   "outputs": [],
   "source": [
    "#drop Commodities Fund\n",
    "df = df[df['Ivestment Strategy'] != 'Commodities Fund (Low Risk)']"
   ]
  },
  {
   "cell_type": "code",
   "execution_count": 32,
   "id": "7ad20878",
   "metadata": {},
   "outputs": [],
   "source": [
    "def extract_sentence_match(summary, knowledge, num_sent):\n",
    "    sentences = sent_tokenize(summary)\n",
    "    sentence_scores = []\n",
    "    for j, sentence in enumerate(sentences):\n",
    "        set_tokens = set(tokenizer(sentence))\n",
    "\n",
    "        # Find the number of common words between the knowledge base and the sentence\n",
    "        inter_knwoledge = set_tokens.intersection(knowledge)\n",
    "\n",
    "        sentence_scores.append(len(inter_knwoledge))\n",
    "\n",
    "    sentence_scores, sentences = zip(*sorted(zip(sentence_scores, sentences)))\n",
    "    top_sentences = sentences[len(sentences)-num_sent-1:]\n",
    "    return ' '.join(top_sentences)"
   ]
  },
  {
   "cell_type": "code",
   "execution_count": 33,
   "id": "ed6a9c32",
   "metadata": {},
   "outputs": [],
   "source": [
    "# It takes several minutes (5-10 minutes)\n",
    "df['strategy_sentences_match'] = df.apply(lambda x : extract_sentence_match(x['summary'], knowledge_base, num_sent=5), axis=1)"
   ]
  },
  {
   "cell_type": "markdown",
   "id": "3a371673",
   "metadata": {},
   "source": [
    "###  Information extraction using deep classifiers"
   ]
  },
  {
   "cell_type": "markdown",
   "id": "63588e0d",
   "metadata": {},
   "source": [
    "#### Format Data"
   ]
  },
  {
   "cell_type": "code",
   "execution_count": 34,
   "id": "0aa1f084",
   "metadata": {},
   "outputs": [
    {
     "name": "stderr",
     "output_type": "stream",
     "text": [
      "/Users/estelle/opt/anaconda3/envs/tf/lib/python3.6/site-packages/ipykernel_launcher.py:2: SettingWithCopyWarning: \n",
      "A value is trying to be set on a copy of a slice from a DataFrame.\n",
      "Try using .loc[row_indexer,col_indexer] = value instead\n",
      "\n",
      "See the caveats in the documentation: https://pandas.pydata.org/pandas-docs/stable/user_guide/indexing.html#returning-a-view-versus-a-copy\n",
      "  \n"
     ]
    }
   ],
   "source": [
    "low_risk = df[df['Ivestment Strategy'] != 'Long Short Funds (High Risk)']\n",
    "low_risk['Ivestment Strategy code'] = low_risk['Ivestment Strategy'].astype('category').cat.codes\n",
    "X_low_risk = low_risk['strategy_sentences_match'].values\n",
    "X_low_risk = [' '.join(tokenizer(txt)) for txt in X_low_risk]\n",
    "y_low_risk = low_risk['Ivestment Strategy code'].values\n",
    "\n",
    "high_risk = df[df['Ivestment Strategy'] == 'Long Short Funds (High Risk)']\n",
    "X_high_risk = high_risk['strategy_sentences_match'].values\n",
    "X_high_risk = [' '.join(tokenizer(txt)) for txt in X_high_risk]\n",
    "y_high_risk = [3,3,3,3]"
   ]
  },
  {
   "cell_type": "code",
   "execution_count": 35,
   "id": "78cf2cd0",
   "metadata": {},
   "outputs": [],
   "source": [
    "X_train_low_risk, X_test_low_risk, y_train_low_risk, y_test_low_risk = train_test_split(X_low_risk, y_low_risk, test_size = 0.1, random_state=30)"
   ]
  },
  {
   "cell_type": "code",
   "execution_count": 36,
   "id": "4ccbf04c",
   "metadata": {},
   "outputs": [],
   "source": [
    "X_train_low_risk, X_valid_low_risk, y_train_low_risk, y_valid_low_risk = train_test_split(X_train_low_risk,y_train_low_risk, test_size=0.1)"
   ]
  },
  {
   "cell_type": "code",
   "execution_count": 37,
   "id": "3a254d15",
   "metadata": {},
   "outputs": [],
   "source": [
    "X_train_high_risk, X_test_high_risk, y_train_high_risk, y_test_high_risk = train_test_split(X_high_risk, y_high_risk, test_size = 0.1, random_state=30)"
   ]
  },
  {
   "cell_type": "code",
   "execution_count": 38,
   "id": "ad5a338d",
   "metadata": {},
   "outputs": [],
   "source": [
    "X_train_high_risk, X_valid_high_risk, y_train_high_risk, y_valid_high_risk = train_test_split(X_train_high_risk, y_train_high_risk, test_size = 0.1, random_state=30)"
   ]
  },
  {
   "cell_type": "code",
   "execution_count": 39,
   "id": "e523d8e9",
   "metadata": {},
   "outputs": [],
   "source": [
    "X_train = X_train_high_risk + X_train_low_risk\n",
    "y_train = y_train_high_risk + y_train_low_risk.tolist()\n",
    "\n",
    "X_test = X_test_high_risk + X_test_low_risk\n",
    "y_test = y_test_high_risk + y_test_low_risk.tolist()\n",
    "\n",
    "X_val = X_valid_high_risk + X_valid_low_risk\n",
    "y_val = y_valid_high_risk + y_valid_low_risk.tolist()"
   ]
  },
  {
   "cell_type": "code",
   "execution_count": 40,
   "id": "b01b3a15",
   "metadata": {},
   "outputs": [
    {
     "data": {
      "text/html": [
       "\n",
       "        <progress\n",
       "            value='464'\n",
       "            max='465',\n",
       "            style='width: 100%'\n",
       "        >\n",
       "            464\n",
       "        </progress>\n",
       "    "
      ],
      "text/plain": [
       "<IPython.core.display.HTML object>"
      ]
     },
     "metadata": {},
     "output_type": "display_data"
    },
    {
     "name": "stderr",
     "output_type": "stream",
     "text": [
      "/Users/estelle/opt/anaconda3/envs/tf/lib/python3.6/site-packages/seaborn/distributions.py:2619: FutureWarning: `distplot` is a deprecated function and will be removed in a future version. Please adapt your code to use either `displot` (a figure-level function with similar flexibility) or `histplot` (an axes-level function for histograms).\n",
      "  warnings.warn(msg, FutureWarning)\n",
      "/Users/estelle/opt/anaconda3/envs/tf/lib/python3.6/site-packages/seaborn/distributions.py:2103: FutureWarning: The `axis` variable is no longer used and will be removed. Instead, assign variables directly to `x` or `y`.\n",
      "  warnings.warn(msg, FutureWarning)\n"
     ]
    },
    {
     "data": {
      "text/plain": [
       "<AxesSubplot:>"
      ]
     },
     "execution_count": 40,
     "metadata": {},
     "output_type": "execute_result"
    },
    {
     "data": {
      "image/png": "[encoded data removed]",
      "text/plain": [
       "<Figure size 432x288 with 1 Axes>"
      ]
     },
     "metadata": {
      "needs_background": "light"
     },
     "output_type": "display_data"
    }
   ],
   "source": [
    "# In order to set the length of the document series (maxlen), we visualise the distribution of the number of words per documents.\n",
    "X = df['strategy_sentences_match'].values\n",
    "# X = df['deriv_sentences_distance'].values # uncomment to use the first sentence extraction method.\n",
    "# Clean the texts\n",
    "X = [' '.join(tokenizer(txt)) for txt in X]\n",
    "X[0][:100]\n",
    "sizes = []\n",
    "out = display(progress(0, len(X)), display_id=True)\n",
    "for ii, txt in enumerate(X):\n",
    "    sizes.append(len(word_tokenize(txt)))\n",
    "    out.update(progress(ii, len(X)))\n",
    "\n",
    "sns.distplot(sizes, kde=False, rug=True)"
   ]
  },
  {
   "cell_type": "code",
   "execution_count": 41,
   "id": "e880ea4b",
   "metadata": {},
   "outputs": [],
   "source": [
    "num_words = 2500 # Size of the vocabulary used. we only consider the 2500 most common words. The other words are removed from the texts.\n",
    "maxlen = 180 # Number of word considered for each document. we cut or lengthen the texts to have texts of 150 words.\n",
    "word_dimension = 50 # dimension of our word vectors."
   ]
  },
  {
   "cell_type": "code",
   "execution_count": 42,
   "id": "a7241844",
   "metadata": {},
   "outputs": [],
   "source": [
    "# The Tokenizer provided by the Keras library allows to perform such transformation.\n",
    "keras_tokenizer = Tokenizer(num_words=num_words)\n",
    "keras_tokenizer.fit_on_texts(X_train)\n",
    "# word_index is the dictionary that contains the index of each words in our 2500 long vocabulary.\n",
    "word_index = keras_tokenizer.word_index\n",
    "sequences_train = keras_tokenizer.texts_to_sequences(X_train)\n",
    "sequences_test = keras_tokenizer.texts_to_sequences(X_val)"
   ]
  },
  {
   "cell_type": "code",
   "execution_count": 43,
   "id": "273a1e8c",
   "metadata": {},
   "outputs": [
    {
     "name": "stdout",
     "output_type": "stream",
     "text": [
      "Text : normal market conditions fund invests directly indirectly unaffiliated exchange traded funds etfs mutual funds together etfs underlying funds least net assets plus amount borrowings long short positions equity securities derivative prices highly volatile may fluctuate substantially short period time inverse etfs fall price stock prices rising small medium sized companies normally lower trading volume larger companies may tend make market price fall disproportionately larger companies response selling pressures may limited markets product lines financial resources lack management experience adviser decision buy sell fund holding made based adviser developed trend risk models evaluate current market conditions analysis guide adviser determination appropriate exposure level equity market least fund assets invested u.s. foreign equity securities market capitalization including underlying funds primarily invest otherwise exposed domestic foreign equity securities derivative instruments including options futures total return swaps designed replicate features underlying portfolio equity securities\n",
      "Index sequences : [233, 9, 91, 2, 47, 215, 1080, 1462, 135, 204, 48, 157, 506, 48, 1463, 157, 56, 48, 153, 151, 49, 432, 227, 352, 138, 104, 414, 16, 1, 115, 18, 588, 55, 4, 310, 415, 104, 331, 101, 706, 157, 69, 29, 46, 18, 129, 64, 396, 245, 7, 163, 41, 272, 707, 27, 7, 4, 32, 125, 9, 29, 69, 960, 27, 7, 645, 433, 961, 4, 118, 34, 234, 416, 88, 254, 173, 78, 205, 85, 1464, 530, 131, 2, 962, 434, 343, 85, 385, 1465, 3, 1466, 1467, 84, 9, 91, 1218, 1468, 85, 1469, 1470, 58, 235, 16, 9, 153, 2, 49, 213, 59, 60, 44, 16, 1, 9, 92, 50, 56, 48, 43, 66, 465, 769, 281, 44, 16, 1, 115, 12, 50, 264, 164, 166, 80, 273, 249, 963, 484, 56, 38, 16, 1]\n"
     ]
    }
   ],
   "source": [
    "print('Text : '+X_train[0])\n",
    "print('Index sequences : ' +str(sequences_train[0]))"
   ]
  },
  {
   "cell_type": "code",
   "execution_count": 44,
   "id": "5b88e2a6",
   "metadata": {},
   "outputs": [],
   "source": [
    "X_train = pad_sequences(sequences_train, maxlen=maxlen, dtype=float, padding='post', truncating='post')\n",
    "X_val = pad_sequences(sequences_test, maxlen=maxlen, dtype=float, padding='post', truncating='post')"
   ]
  },
  {
   "cell_type": "code",
   "execution_count": 45,
   "id": "6e327e6c",
   "metadata": {},
   "outputs": [
    {
     "name": "stdout",
     "output_type": "stream",
     "text": [
      "length of the first sequence : 141\n",
      "length of the paded first sequence : 180\n"
     ]
    }
   ],
   "source": [
    "print ('length of the first sequence : '+str(len(sequences_train[0])) )\n",
    "print ('length of the paded first sequence : '+str(len(X_train[0])) )"
   ]
  },
  {
   "cell_type": "code",
   "execution_count": 46,
   "id": "a00a2b62",
   "metadata": {},
   "outputs": [],
   "source": [
    "word2vec_g = load_word2vec(glove_word2vec)"
   ]
  },
  {
   "cell_type": "code",
   "execution_count": 47,
   "id": "f54c4031",
   "metadata": {},
   "outputs": [],
   "source": [
    "embedding_matrix = np.zeros((len(word_index) + 1, word_dimension))\n",
    "for word, i in word_index.items():\n",
    "    embedding_vector = word2vec_g.get(word)\n",
    "    #embedding_vector = word2vec.get(word)   # uncomment to use our own word2vec\n",
    "    if embedding_vector is not None:\n",
    "        embedding_matrix[i] = embedding_vector"
   ]
  },
  {
   "cell_type": "markdown",
   "id": "9eb42c73",
   "metadata": {},
   "source": [
    "### First Model: CNN"
   ]
  },
  {
   "cell_type": "code",
   "execution_count": 48,
   "id": "92746652",
   "metadata": {},
   "outputs": [],
   "source": [
    "def create_CNN_model():\n",
    "    CNN = Sequential()\n",
    "    # The Embedding layer takes the embedding matrix as an argument and transform the inputed the sequences of index to sequences of vectors.\n",
    "    CNN.add(Embedding(len(word_index) + 1, word_dimension, weights=[embedding_matrix], input_length = maxlen, trainable=False))\n",
    "\n",
    "\n",
    "    CNN.add(Convolution1D(64, 5, activation = 'relu'))\n",
    "    CNN.add(MaxPooling1D(pool_size = 5))\n",
    "\n",
    "    CNN.add(Convolution1D(32, 5, activation = 'relu'))\n",
    "    CNN.add(MaxPooling1D(pool_size = 5))\n",
    "\n",
    "    CNN.add(Flatten())\n",
    "    CNN.add(Dense(units = 128 , activation = 'relu'))\n",
    "    CNN.add(Dropout(0.5))\n",
    "    CNN.add(Dense(units = 1, activation = 'sigmoid'))\n",
    "\n",
    "    CNN.compile(optimizer = 'adam', loss = 'binary_crossentropy', metrics = ['accuracy'])\n",
    "    \n",
    "    return CNN"
   ]
  },
  {
   "cell_type": "code",
   "execution_count": 49,
   "id": "79d9ca04",
   "metadata": {},
   "outputs": [],
   "source": [
    "from imblearn.over_sampling import SMOTE\n",
    "sm = SMOTE(k_neighbors=1)\n",
    "X_train_res, y_train_res = sm.fit_resample(X_train, y_train)"
   ]
  },
  {
   "cell_type": "code",
   "execution_count": 50,
   "id": "f0a13a6b",
   "metadata": {},
   "outputs": [],
   "source": [
    "CNN_model = create_CNN_model()"
   ]
  },
  {
   "cell_type": "code",
   "execution_count": 51,
   "id": "c49b6dca",
   "metadata": {},
   "outputs": [
    {
     "name": "stdout",
     "output_type": "stream",
     "text": [
      "Train on 333 samples, validate on 84 samples\n",
      "Epoch 1/10\n",
      "333/333 [==============================] - 1s 4ms/step - loss: -0.5880 - acc: 0.5045 - val_loss: -0.1930 - val_acc: 0.5476\n",
      "Epoch 2/10\n",
      "333/333 [==============================] - 1s 2ms/step - loss: -2.1111 - acc: 0.5255 - val_loss: -0.1898 - val_acc: 0.5476\n",
      "Epoch 3/10\n",
      "333/333 [==============================] - 1s 2ms/step - loss: -2.2980 - acc: 0.5255 - val_loss: -0.1898 - val_acc: 0.5476\n",
      "Epoch 4/10\n",
      "333/333 [==============================] - 1s 2ms/step - loss: -2.2980 - acc: 0.5255 - val_loss: -0.1898 - val_acc: 0.5476\n",
      "Epoch 5/10\n",
      "333/333 [==============================] - 1s 2ms/step - loss: -2.2980 - acc: 0.5255 - val_loss: -0.1898 - val_acc: 0.5476\n",
      "Epoch 6/10\n",
      "333/333 [==============================] - 1s 2ms/step - loss: -2.2980 - acc: 0.5255 - val_loss: -0.1898 - val_acc: 0.5476\n",
      "Epoch 7/10\n",
      "333/333 [==============================] - 1s 2ms/step - loss: -2.2980 - acc: 0.5255 - val_loss: -0.1898 - val_acc: 0.5476\n",
      "Epoch 8/10\n",
      "333/333 [==============================] - 1s 2ms/step - loss: -2.2980 - acc: 0.5255 - val_loss: -0.1898 - val_acc: 0.5476\n",
      "Epoch 9/10\n",
      "333/333 [==============================] - 1s 2ms/step - loss: -2.2980 - acc: 0.5255 - val_loss: -0.1898 - val_acc: 0.5476\n",
      "Epoch 10/10\n",
      "333/333 [==============================] - 1s 2ms/step - loss: -2.2980 - acc: 0.5255 - val_loss: -0.1898 - val_acc: 0.5476\n"
     ]
    }
   ],
   "source": [
    "CNN_history = CNN_model.fit(X_train, y_train, epochs=10, batch_size=40, validation_data=(X_val, y_val))"
   ]
  },
  {
   "cell_type": "code",
   "execution_count": 53,
   "id": "5ab784dd",
   "metadata": {},
   "outputs": [],
   "source": [
    "pred_CNN = CNN_model.predict(X_val)"
   ]
  },
  {
   "cell_type": "code",
   "execution_count": 56,
   "id": "b7ad5b42",
   "metadata": {},
   "outputs": [
    {
     "name": "stdout",
     "output_type": "stream",
     "text": [
      "[[ 0 19  0  0]\n",
      " [ 0 46  0  0]\n",
      " [ 0 18  0  0]\n",
      " [ 0  1  0  0]]\n"
     ]
    }
   ],
   "source": [
    "print(confusion_matrix(y_val,pred_CNN))"
   ]
  },
  {
   "cell_type": "code",
   "execution_count": 61,
   "id": "1cfdd3bd",
   "metadata": {},
   "outputs": [
    {
     "data": {
      "image/png": "[encoded data removed]",
      "text/plain": [
       "<Figure size 432x288 with 1 Axes>"
      ]
     },
     "metadata": {
      "needs_background": "light"
     },
     "output_type": "display_data"
    }
   ],
   "source": [
    "# Plot training & validation loss values\n",
    "plt.plot(CNN_history.history['loss'])\n",
    "plt.plot(CNN_history.history['val_loss'])\n",
    "plt.title('Model loss')\n",
    "plt.ylabel('Loss')\n",
    "plt.xlabel('Epoch')\n",
    "plt.legend(['Train', 'Validation'], loc='upper left')\n",
    "plt.show()"
   ]
  },
  {
   "cell_type": "markdown",
   "id": "3ecbbb78",
   "metadata": {},
   "source": [
    "### Second Model: Logistic Regression"
   ]
  },
  {
   "cell_type": "code",
   "execution_count": 58,
   "id": "23dad92d",
   "metadata": {},
   "outputs": [
    {
     "name": "stderr",
     "output_type": "stream",
     "text": [
      "/Users/estelle/opt/anaconda3/envs/tf/lib/python3.6/site-packages/ipykernel_launcher.py:4: UserWarning: ignore\n",
      "  after removing the cwd from sys.path.\n"
     ]
    },
    {
     "data": {
      "text/plain": [
       "LogisticRegression(solver='liblinear')"
      ]
     },
     "execution_count": 58,
     "metadata": {},
     "output_type": "execute_result"
    }
   ],
   "source": [
    "from sklearn.linear_model import LogisticRegression\n",
    "from sklearn.model_selection import GridSearchCV\n",
    "import warnings\n",
    "warnings.warn('ignore')\n",
    "lm = LogisticRegression(multi_class='auto', max_iter=100, solver = 'liblinear')\n",
    "lm.fit(X_train, y_train)"
   ]
  },
  {
   "cell_type": "code",
   "execution_count": 59,
   "id": "9c2f300d",
   "metadata": {},
   "outputs": [
    {
     "name": "stdout",
     "output_type": "stream",
     "text": [
      "              precision    recall  f1-score   support\n",
      "\n",
      "           0       0.67      0.84      0.74        19\n",
      "           1       0.76      0.63      0.69        46\n",
      "           2       0.45      0.56      0.50        18\n",
      "           3       0.00      0.00      0.00         1\n",
      "\n",
      "    accuracy                           0.65        84\n",
      "   macro avg       0.47      0.51      0.48        84\n",
      "weighted avg       0.67      0.65      0.65        84\n",
      "\n"
     ]
    },
    {
     "name": "stderr",
     "output_type": "stream",
     "text": [
      "/Users/estelle/opt/anaconda3/envs/tf/lib/python3.6/site-packages/sklearn/metrics/_classification.py:1248: UndefinedMetricWarning: Precision and F-score are ill-defined and being set to 0.0 in labels with no predicted samples. Use `zero_division` parameter to control this behavior.\n",
      "  _warn_prf(average, modifier, msg_start, len(result))\n",
      "/Users/estelle/opt/anaconda3/envs/tf/lib/python3.6/site-packages/sklearn/metrics/_classification.py:1248: UndefinedMetricWarning: Precision and F-score are ill-defined and being set to 0.0 in labels with no predicted samples. Use `zero_division` parameter to control this behavior.\n",
      "  _warn_prf(average, modifier, msg_start, len(result))\n",
      "/Users/estelle/opt/anaconda3/envs/tf/lib/python3.6/site-packages/sklearn/metrics/_classification.py:1248: UndefinedMetricWarning: Precision and F-score are ill-defined and being set to 0.0 in labels with no predicted samples. Use `zero_division` parameter to control this behavior.\n",
      "  _warn_prf(average, modifier, msg_start, len(result))\n"
     ]
    }
   ],
   "source": [
    "pred_lm = lm.predict(X_val)\n",
    "print(classification_report(y_val,pred_lm))"
   ]
  },
  {
   "cell_type": "markdown",
   "id": "f5015396",
   "metadata": {},
   "source": [
    "### Third Model: Random Forest"
   ]
  },
  {
   "cell_type": "code",
   "execution_count": 60,
   "id": "97ddaac1",
   "metadata": {},
   "outputs": [
    {
     "name": "stderr",
     "output_type": "stream",
     "text": [
      "/Users/estelle/opt/anaconda3/envs/tf/lib/python3.6/site-packages/ipykernel_launcher.py:2: UserWarning: ignore\n",
      "  \n"
     ]
    },
    {
     "data": {
      "text/plain": [
       "GridSearchCV(cv=3,\n",
       "             estimator=RandomForestClassifier(class_weight='balanced',\n",
       "                                              random_state=1),\n",
       "             n_jobs=-1,\n",
       "             param_grid={'max_depth': [9, 12, 15],\n",
       "                         'max_features': ['sqrt', 'log2', 'auto', 10],\n",
       "                         'max_leaf_nodes': [15, 20, 25],\n",
       "                         'min_samples_leaf': [6, 10, 17],\n",
       "                         'n_estimators': [200, 400, 600, 800]},\n",
       "             scoring='accuracy')"
      ]
     },
     "execution_count": 60,
     "metadata": {},
     "output_type": "execute_result"
    }
   ],
   "source": [
    "from sklearn.ensemble import RandomForestClassifier\n",
    "warnings.warn('ignore')\n",
    "rf = RandomForestClassifier(class_weight='balanced',random_state=1)\n",
    "params = {'n_estimators':[200,400,600,800],\n",
    "          'max_features':['sqrt', 'log2', \"auto\", 10],\n",
    "          'max_leaf_nodes':[15, 20, 25], \n",
    "          'min_samples_leaf': [6, 10, 17], \n",
    "          'max_depth':[9, 12, 15]}\n",
    "gsv_rf = GridSearchCV(rf, params, cv=3, n_jobs=-1, scoring='accuracy')\n",
    "gsv_rf.fit(X_train_res,y_train_res)"
   ]
  },
  {
   "cell_type": "code",
   "execution_count": 62,
   "id": "303e82b0",
   "metadata": {},
   "outputs": [
    {
     "data": {
      "text/plain": [
       "{'max_depth': 12,\n",
       " 'max_features': 'sqrt',\n",
       " 'max_leaf_nodes': 25,\n",
       " 'min_samples_leaf': 6,\n",
       " 'n_estimators': 400}"
      ]
     },
     "execution_count": 62,
     "metadata": {},
     "output_type": "execute_result"
    }
   ],
   "source": [
    "gsv_rf.best_params_"
   ]
  },
  {
   "cell_type": "code",
   "execution_count": 64,
   "id": "c60c87cf",
   "metadata": {},
   "outputs": [],
   "source": [
    "pred_rf = gsv_rf.best_estimator_.predict(X_val)"
   ]
  },
  {
   "cell_type": "code",
   "execution_count": 66,
   "id": "a86acab2",
   "metadata": {},
   "outputs": [
    {
     "name": "stdout",
     "output_type": "stream",
     "text": [
      "              precision    recall  f1-score   support\n",
      "\n",
      "           0       0.82      0.74      0.78        19\n",
      "           1       0.73      0.83      0.78        46\n",
      "           2       0.60      0.50      0.55        18\n",
      "           3       0.00      0.00      0.00         1\n",
      "\n",
      "    accuracy                           0.73        84\n",
      "   macro avg       0.54      0.52      0.52        84\n",
      "weighted avg       0.72      0.73      0.72        84\n",
      "\n"
     ]
    },
    {
     "name": "stderr",
     "output_type": "stream",
     "text": [
      "/Users/estelle/opt/anaconda3/envs/tf/lib/python3.6/site-packages/sklearn/metrics/_classification.py:1248: UndefinedMetricWarning: Precision and F-score are ill-defined and being set to 0.0 in labels with no predicted samples. Use `zero_division` parameter to control this behavior.\n",
      "  _warn_prf(average, modifier, msg_start, len(result))\n",
      "/Users/estelle/opt/anaconda3/envs/tf/lib/python3.6/site-packages/sklearn/metrics/_classification.py:1248: UndefinedMetricWarning: Precision and F-score are ill-defined and being set to 0.0 in labels with no predicted samples. Use `zero_division` parameter to control this behavior.\n",
      "  _warn_prf(average, modifier, msg_start, len(result))\n",
      "/Users/estelle/opt/anaconda3/envs/tf/lib/python3.6/site-packages/sklearn/metrics/_classification.py:1248: UndefinedMetricWarning: Precision and F-score are ill-defined and being set to 0.0 in labels with no predicted samples. Use `zero_division` parameter to control this behavior.\n",
      "  _warn_prf(average, modifier, msg_start, len(result))\n"
     ]
    }
   ],
   "source": [
    "print(classification_report(y_val,pred_rf))"
   ]
  },
  {
   "cell_type": "code",
   "execution_count": 67,
   "id": "36c05d31",
   "metadata": {},
   "outputs": [
    {
     "name": "stdout",
     "output_type": "stream",
     "text": [
      "              precision    recall  f1-score   support\n",
      "\n",
      "           0       0.94      0.79      0.86        19\n",
      "           1       0.75      0.93      0.83        46\n",
      "           2       0.82      0.50      0.62        18\n",
      "           3       0.00      0.00      0.00         1\n",
      "\n",
      "    accuracy                           0.80        84\n",
      "   macro avg       0.63      0.56      0.58        84\n",
      "weighted avg       0.80      0.80      0.78        84\n",
      "\n"
     ]
    },
    {
     "name": "stderr",
     "output_type": "stream",
     "text": [
      "/Users/estelle/opt/anaconda3/envs/tf/lib/python3.6/site-packages/sklearn/metrics/_classification.py:1248: UndefinedMetricWarning: Precision and F-score are ill-defined and being set to 0.0 in labels with no predicted samples. Use `zero_division` parameter to control this behavior.\n",
      "  _warn_prf(average, modifier, msg_start, len(result))\n",
      "/Users/estelle/opt/anaconda3/envs/tf/lib/python3.6/site-packages/sklearn/metrics/_classification.py:1248: UndefinedMetricWarning: Precision and F-score are ill-defined and being set to 0.0 in labels with no predicted samples. Use `zero_division` parameter to control this behavior.\n",
      "  _warn_prf(average, modifier, msg_start, len(result))\n",
      "/Users/estelle/opt/anaconda3/envs/tf/lib/python3.6/site-packages/sklearn/metrics/_classification.py:1248: UndefinedMetricWarning: Precision and F-score are ill-defined and being set to 0.0 in labels with no predicted samples. Use `zero_division` parameter to control this behavior.\n",
      "  _warn_prf(average, modifier, msg_start, len(result))\n"
     ]
    }
   ],
   "source": [
    "pred_rf = rf.fit(X_train_res,y_train_res).predict(X_val)\n",
    "print(classification_report(y_val,pred_rf))"
   ]
  },
  {
   "cell_type": "markdown",
   "id": "9ebfc207",
   "metadata": {},
   "source": [
    "### Fourth Model: Support Vector Machine"
   ]
  },
  {
   "cell_type": "code",
   "execution_count": 68,
   "id": "56169f47",
   "metadata": {},
   "outputs": [],
   "source": [
    "from sklearn import svm\n",
    "from sklearn.metrics import accuracy_score\n",
    "from sklearn.metrics import f1_score\n",
    "rbf = svm.SVC(kernel='rbf', gamma=0.5, C=0.1).fit(X_train_res, y_train_res)\n",
    "poly = svm.SVC(kernel='poly', degree=3, C=1).fit(X_train_res, y_train_res)"
   ]
  },
  {
   "cell_type": "code",
   "execution_count": 70,
   "id": "fa459c9a",
   "metadata": {},
   "outputs": [],
   "source": [
    "poly_pred = poly.predict(X_val)\n",
    "rbf_pred = rbf.predict(X_val)"
   ]
  },
  {
   "cell_type": "code",
   "execution_count": 71,
   "id": "753d4932",
   "metadata": {},
   "outputs": [
    {
     "name": "stdout",
     "output_type": "stream",
     "text": [
      "Accuracy (Polynomial Kernel):  46.43\n",
      "F1 (Polynomial Kernel):  47.37\n"
     ]
    }
   ],
   "source": [
    "poly_accuracy = accuracy_score(y_val, poly_pred)\n",
    "poly_f1 = f1_score(y_val, poly_pred, average='weighted')\n",
    "print('Accuracy (Polynomial Kernel): ', \"%.2f\" % (poly_accuracy*100))\n",
    "print('F1 (Polynomial Kernel): ', \"%.2f\" % (poly_f1*100))"
   ]
  },
  {
   "cell_type": "code",
   "execution_count": 72,
   "id": "b273e243",
   "metadata": {},
   "outputs": [
    {
     "name": "stdout",
     "output_type": "stream",
     "text": [
      "Accuracy (RBF Kernel):  8.33\n",
      "F1 (RBF Kernel):  10.89\n"
     ]
    }
   ],
   "source": [
    "rbf_accuracy = accuracy_score(y_val, rbf_pred)\n",
    "rbf_f1 = f1_score(y_val, rbf_pred, average='weighted')\n",
    "print('Accuracy (RBF Kernel): ', \"%.2f\" % (rbf_accuracy*100))\n",
    "print('F1 (RBF Kernel): ', \"%.2f\" % (rbf_f1*100))"
   ]
  },
  {
   "cell_type": "code",
   "execution_count": 80,
   "id": "b0d5e44b",
   "metadata": {},
   "outputs": [
    {
     "data": {
      "image/png": "[encoded data removed]",
      "text/plain": [
       "<Figure size 320x320 with 1 Axes>"
      ]
     },
     "metadata": {
      "needs_background": "light"
     },
     "output_type": "display_data"
    }
   ],
   "source": [
    "#accuracy compare\n",
    "from sklearn.metrics import f1_score, accuracy_score, roc_auc_score,confusion_matrix,roc_curve\n",
    "plt.figure(figsize=(4, 4), dpi=80)\n",
    "x = [\"CNN\",\"LR\",\"RF\",\"SVM_poly\",\"SVM_rbf\"]\n",
    "accuracy = [CNN_history.history['acc'][9],accuracy_score(y_val, pred_lm),accuracy_score(y_val, pred_rf),\n",
    "            poly_accuracy,rbf_accuracy]\n",
    "f1 = [f1_score(y_val,pred_CNN,average='weighted'),f1_score(y_val,pred_lm,average='weighted'),\n",
    "      f1_score(y_val,pred_rf,average='weighted'),poly_f1,rbf_f1]\n",
    "p1 = plt.plot(x, accuracy)\n",
    "p2 = plt.plot(x, f1)\n",
    "ax = plt.gca()\n",
    "ax.legend([p1[0], p2[0]],['accuracy','f1-score'])\n",
    "ax.set_title('Model Selection')\n",
    "plt.show()"
   ]
  },
  {
   "cell_type": "markdown",
   "id": "218ce225",
   "metadata": {},
   "source": [
    "### Prediction"
   ]
  },
  {
   "cell_type": "markdown",
   "id": "ac4f8106",
   "metadata": {},
   "source": [
    "Among the four model above, We can find random forest has the highest accuracy and f1 score which means it has the best performance, so we choose this model to predict the test data."
   ]
  },
  {
   "cell_type": "code",
   "execution_count": 82,
   "id": "78d9cb29",
   "metadata": {},
   "outputs": [],
   "source": [
    "#remove the high risk, only fit three low risk fund\n",
    "# The Tokenizer provided by the Keras library allows to perform such transformation.\n",
    "keras_tokenizer = Tokenizer(num_words=num_words)\n",
    "keras_tokenizer.fit_on_texts(X_train_low_risk)\n",
    "# word_index is the dictionary that contains the index of each words in our 2500 long vocabulary.\n",
    "word_index = keras_tokenizer.word_index\n",
    "sequences_train_low_risk = keras_tokenizer.texts_to_sequences(X_train_low_risk)\n",
    "sequences_test_low_risk = keras_tokenizer.texts_to_sequences(X_valid_low_risk)\n",
    "\n",
    "X_train_low_risk = pad_sequences(sequences_train_low_risk, maxlen=maxlen, dtype=float, padding='post', truncating='post')\n",
    "X_valid_low_risk = pad_sequences(sequences_test_low_risk, maxlen=maxlen, dtype=float, padding='post', truncating='post')"
   ]
  },
  {
   "cell_type": "code",
   "execution_count": 83,
   "id": "76780fd4",
   "metadata": {},
   "outputs": [
    {
     "data": {
      "text/plain": [
       "RandomForestClassifier(class_weight='balanced', random_state=12)"
      ]
     },
     "execution_count": 83,
     "metadata": {},
     "output_type": "execute_result"
    }
   ],
   "source": [
    "rf_low = RandomForestClassifier(class_weight='balanced',random_state=12)\n",
    "rf_low.fit(X_train_low_risk,y_train_low_risk)"
   ]
  },
  {
   "cell_type": "code",
   "execution_count": 84,
   "id": "f4c504c6",
   "metadata": {},
   "outputs": [
    {
     "name": "stdout",
     "output_type": "stream",
     "text": [
      "              precision    recall  f1-score   support\n",
      "\n",
      "           0       1.00      0.68      0.81        19\n",
      "           1       0.71      1.00      0.83        46\n",
      "           2       1.00      0.28      0.43        18\n",
      "\n",
      "    accuracy                           0.77        83\n",
      "   macro avg       0.90      0.65      0.69        83\n",
      "weighted avg       0.84      0.77      0.74        83\n",
      "\n"
     ]
    }
   ],
   "source": [
    "pred_rf_low = rf_low.predict(X_valid_low_risk)\n",
    "print(classification_report(y_valid_low_risk,pred_rf_low))"
   ]
  },
  {
   "cell_type": "code",
   "execution_count": 89,
   "id": "c7b9225a",
   "metadata": {},
   "outputs": [
    {
     "data": {
      "text/plain": [
       "GridSearchCV(cv=3,\n",
       "             estimator=RandomForestClassifier(class_weight='balanced',\n",
       "                                              random_state=12),\n",
       "             n_jobs=-1,\n",
       "             param_grid={'max_depth': [9, 12, 15],\n",
       "                         'max_features': ['sqrt', 'log2', 'auto', 10],\n",
       "                         'max_leaf_nodes': [15, 20, 25],\n",
       "                         'min_samples_leaf': [6, 10, 17],\n",
       "                         'n_estimators': [200, 400, 600, 800]},\n",
       "             scoring='accuracy')"
      ]
     },
     "execution_count": 89,
     "metadata": {},
     "output_type": "execute_result"
    }
   ],
   "source": [
    "params = {'n_estimators':[200,400,600,800],\n",
    "          'max_features':['sqrt', 'log2', \"auto\", 10],\n",
    "          'max_leaf_nodes':[15, 20, 25], \n",
    "          'min_samples_leaf': [6, 10, 17], \n",
    "          'max_depth':[9, 12, 15]}\n",
    "gsv_rf_low = GridSearchCV(rf_low, params, cv=3, n_jobs=-1, scoring='accuracy')\n",
    "gsv_rf_low.fit(X_train_low_risk,y_train_low_risk) "
   ]
  },
  {
   "cell_type": "code",
   "execution_count": 90,
   "id": "ce9f36e1",
   "metadata": {},
   "outputs": [
    {
     "data": {
      "text/plain": [
       "{'max_depth': 9,\n",
       " 'max_features': 10,\n",
       " 'max_leaf_nodes': 20,\n",
       " 'min_samples_leaf': 6,\n",
       " 'n_estimators': 400}"
      ]
     },
     "execution_count": 90,
     "metadata": {},
     "output_type": "execute_result"
    }
   ],
   "source": [
    "gsv_rf_low.best_params_"
   ]
  },
  {
   "cell_type": "code",
   "execution_count": 92,
   "id": "30f70174",
   "metadata": {},
   "outputs": [
    {
     "name": "stdout",
     "output_type": "stream",
     "text": [
      "              precision    recall  f1-score   support\n",
      "\n",
      "           0       0.79      0.79      0.79        19\n",
      "           1       0.73      0.80      0.76        46\n",
      "           2       0.62      0.44      0.52        18\n",
      "\n",
      "    accuracy                           0.72        83\n",
      "   macro avg       0.71      0.68      0.69        83\n",
      "weighted avg       0.72      0.72      0.72        83\n",
      "\n"
     ]
    }
   ],
   "source": [
    "pred_rf_low_gsv = gsv_rf_low.best_estimator_.predict(X_valid_low_risk)\n",
    "print(classification_report(y_valid_low_risk,pred_rf_low_gsv))"
   ]
  },
  {
   "cell_type": "code",
   "execution_count": 94,
   "id": "7d4eb932",
   "metadata": {},
   "outputs": [],
   "source": [
    "#choose rf to predict\n",
    "#remove the high risk, only fit three low risk fund\n",
    "# The Tokenizer provided by the Keras library allows to perform such transformation.\n",
    "keras_tokenizer = Tokenizer(num_words=num_words)\n",
    "keras_tokenizer.fit_on_texts(X_test)\n",
    "# word_index is the dictionary that contains the index of each words in our 2500 long vocabulary.\n",
    "word_index = keras_tokenizer.word_index\n",
    "sequences = keras_tokenizer.texts_to_sequences(X_test)\n",
    "\n",
    "X_test = pad_sequences(sequences, maxlen=maxlen, dtype=float, padding='post', truncating='post')\n",
    "\n",
    "prediction = rf.predict(X_test)"
   ]
  },
  {
   "cell_type": "code",
   "execution_count": 99,
   "id": "93755dd0",
   "metadata": {},
   "outputs": [
    {
     "data": {
      "text/plain": [
       "0.6666666666666666"
      ]
     },
     "execution_count": 99,
     "metadata": {},
     "output_type": "execute_result"
    }
   ],
   "source": [
    "accuracy_score(y_test, prediction)"
   ]
  },
  {
   "cell_type": "code",
   "execution_count": 100,
   "id": "bd3fe5bb",
   "metadata": {},
   "outputs": [
    {
     "data": {
      "text/plain": [
       "array([[ 6,  2,  1,  0],\n",
       "       [ 2, 19,  5,  0],\n",
       "       [ 0,  5,  7,  0],\n",
       "       [ 1,  0,  0,  0]])"
      ]
     },
     "execution_count": 100,
     "metadata": {},
     "output_type": "execute_result"
    }
   ],
   "source": [
    "confusion_matrix(y_test,prediction)"
   ]
  },
  {
   "cell_type": "code",
   "execution_count": 102,
   "id": "3cf11cd3",
   "metadata": {},
   "outputs": [
    {
     "name": "stdout",
     "output_type": "stream",
     "text": [
      "              precision    recall  f1-score   support\n",
      "\n",
      "           0       0.67      0.67      0.67         9\n",
      "           1       0.73      0.73      0.73        26\n",
      "           2       0.54      0.58      0.56        12\n",
      "           3       0.00      0.00      0.00         1\n",
      "\n",
      "    accuracy                           0.67        48\n",
      "   macro avg       0.48      0.50      0.49        48\n",
      "weighted avg       0.66      0.67      0.66        48\n",
      "\n"
     ]
    },
    {
     "name": "stderr",
     "output_type": "stream",
     "text": [
      "/Users/estelle/opt/anaconda3/envs/tf/lib/python3.6/site-packages/sklearn/metrics/_classification.py:1248: UndefinedMetricWarning: Precision and F-score are ill-defined and being set to 0.0 in labels with no predicted samples. Use `zero_division` parameter to control this behavior.\n",
      "  _warn_prf(average, modifier, msg_start, len(result))\n",
      "/Users/estelle/opt/anaconda3/envs/tf/lib/python3.6/site-packages/sklearn/metrics/_classification.py:1248: UndefinedMetricWarning: Precision and F-score are ill-defined and being set to 0.0 in labels with no predicted samples. Use `zero_division` parameter to control this behavior.\n",
      "  _warn_prf(average, modifier, msg_start, len(result))\n",
      "/Users/estelle/opt/anaconda3/envs/tf/lib/python3.6/site-packages/sklearn/metrics/_classification.py:1248: UndefinedMetricWarning: Precision and F-score are ill-defined and being set to 0.0 in labels with no predicted samples. Use `zero_division` parameter to control this behavior.\n",
      "  _warn_prf(average, modifier, msg_start, len(result))\n"
     ]
    }
   ],
   "source": [
    "print(classification_report(y_test,prediction))"
   ]
  },
  {
   "cell_type": "code",
   "execution_count": 119,
   "id": "de2dad0a",
   "metadata": {},
   "outputs": [
    {
     "data": {
      "text/plain": [
       "array([0, 1, 1, 2, 0, 1, 1, 1, 1, 2, 2, 1, 0, 2, 1, 2, 1, 0, 1, 2, 0, 1,\n",
       "       0, 2, 0, 1, 1, 2, 1, 1, 0, 2, 1, 2, 1, 2, 1, 1, 1, 1, 1, 1, 1, 2,\n",
       "       1, 2, 1, 0])"
      ]
     },
     "execution_count": 119,
     "metadata": {},
     "output_type": "execute_result"
    }
   ],
   "source": [
    "prediction"
   ]
  },
  {
   "cell_type": "code",
   "execution_count": null,
   "id": "8730adf1",
   "metadata": {},
   "outputs": [],
   "source": []
  },
  {
   "cell_type": "code",
   "execution_count": null,
   "id": "1d2c8909",
   "metadata": {},
   "outputs": [],
   "source": []
  }
 ],
 "metadata": {
  "kernelspec": {
   "display_name": "Python 3 (ipykernel)",
   "language": "python",
   "name": "python3"
  },
  "language_info": {
   "codemirror_mode": {
    "name": "ipython",
    "version": 3
   },
   "file_extension": ".py",
   "mimetype": "text/x-python",
   "name": "python",
   "nbconvert_exporter": "python",
   "pygments_lexer": "ipython3",
   "version": "3.9.12"
  }
 },
 "nbformat": 4,
 "nbformat_minor": 5
}
